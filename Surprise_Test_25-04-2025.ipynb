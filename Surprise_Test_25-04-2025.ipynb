{
 "cells": [
  {
   "cell_type": "markdown",
   "id": "65d89153-17bd-4c2c-8c78-e9f23c1b59f1",
   "metadata": {},
   "source": [
    "-- Q.1. "
   ]
  },
  {
   "cell_type": "code",
   "execution_count": 1,
   "id": "9ed73825-6ae5-4af8-b80c-81348709a9fc",
   "metadata": {},
   "outputs": [
    {
     "data": {
      "text/plain": [
       "{'hello': 5, 'everyone': 8, 'all': 3, 'the': 3, 'best': 4}"
      ]
     },
     "execution_count": 1,
     "metadata": {},
     "output_type": "execute_result"
    }
   ],
   "source": [
    "St = [\"hello\",'everyone','all','the','best']\n",
    "\n",
    "dict1 = {i: len(i) for i in St}\n",
    "dict1"
   ]
  },
  {
   "cell_type": "raw",
   "id": "190d841f-53fa-4385-8486-813a60e1bdf9",
   "metadata": {},
   "source": [
    "-- Q.2. Difference between Covariance and Correlation.\n",
    "==>  Covariance shows the direction of data where correlation gives direction as well as strength of data.\n",
    "==>  Covariance takes value from minus infinity to plus infinity, range of values for correlation is -1 to +1"
   ]
  },
  {
   "cell_type": "raw",
   "id": "fe3f5da2-8a45-4394-b17c-7c891a143ce3",
   "metadata": {},
   "source": [
    "Q.3 What is CLT?\n",
    "==> Central limit theorem says that as the size of data/ sample increases it follows normal distribution."
   ]
  },
  {
   "cell_type": "raw",
   "id": "0c9b89a8-fac9-4a76-818a-11f306c96dd3",
   "metadata": {},
   "source": [
    "Q.4. Two main differences between Set and Dictionary?\n",
    "==> Set is unordered, whereas dictionary is ordered.\n",
    "==> values inside set are stored like list, In dictionary it is in the form of Key:value pair."
   ]
  },
  {
   "cell_type": "raw",
   "id": "78e7467e-80d4-443d-85f4-d21db644fa8c",
   "metadata": {},
   "source": [
    "Q.5. Difference Between linspace and arrange? example"
   ]
  },
  {
   "cell_type": "code",
   "execution_count": 27,
   "id": "49756c48-03b3-48a7-9bfa-e5eb36fac6a9",
   "metadata": {},
   "outputs": [],
   "source": [
    "import numpy as np\n",
    "import random as random\n",
    "x = np.random.randint(1,101,25)"
   ]
  },
  {
   "cell_type": "code",
   "execution_count": null,
   "id": "e5b79012-693b-4380-97ef-1c13f5a024e8",
   "metadata": {},
   "outputs": [],
   "source": []
  },
  {
   "cell_type": "raw",
   "id": "946c8cad-a896-4428-9cd1-442bb2cedd9c",
   "metadata": {},
   "source": [
    "Q.6. What is type1 error? \n",
    "==> Type 1 error is False Positives where actual result is negative yet model predicts it as positive."
   ]
  },
  {
   "cell_type": "raw",
   "id": "67ea6837-5be0-4a6a-9ef2-6962c4694633",
   "metadata": {},
   "source": [
    "Q.7. Function to find the outlier in the dataset? (Lower limit and upper limit)"
   ]
  },
  {
   "cell_type": "code",
   "execution_count": 3,
   "id": "e3cf2205-bffd-4d45-aba0-8bc2706b4103",
   "metadata": {},
   "outputs": [],
   "source": [
    "def Out_iqr(data, columns):\n",
    "    thres={}\n",
    "    outliers = data.copy()\n",
    "\n",
    "    for col in columns:\n",
    "        Q1 = data[col].quantile(0.25)\n",
    "        Q3 = data[col].quantile(0.75)\n",
    "        IQR = Q3-Q1\n",
    "        upper = Q3+1.5*IQR\n",
    "        lower = Q1-1.5*IQR\n",
    "        thres[col] = {'Lower': lower, 'Upper': upper}\n",
    "        outliers = [(data[col]<lower and data[col]>upper)]\n",
    "    return outliers, thres"
   ]
  },
  {
   "cell_type": "raw",
   "id": "0d1468ec-6ef9-416b-8b71-3b4ef144371a",
   "metadata": {},
   "source": [
    "Q.8. Statistical test to check if the data is normally distributed? (Name of the Tests)\n",
    "\n",
    "==> Shapiro-Wilk test(for datapoints < 5000)\n",
    "==> Jarque-Bera Test (for datapoints > 5000)"
   ]
  },
  {
   "cell_type": "raw",
   "id": "479ee473-4f22-4fa4-96fe-5921fa049a07",
   "metadata": {},
   "source": [
    "Q.9. List the assumptions of linear regression?\n",
    "\n",
    "1.Independance of input features: Input features(columns) must not be dependent on each other.\n",
    "2.No Multicollinearity: Independent features must not be highly correlated with each other.\n",
    "3.Homoscedasticity: Residuals should be equally distributed and must not have any pattern at any instance about independant feature.\n",
    "4.Normality of Errors: Residuals must be normally distributed.\n",
    "5."
   ]
  },
  {
   "cell_type": "raw",
   "id": "88b152e8-7876-454a-b9ca-d86e1af5a650",
   "metadata": {},
   "source": [
    "Q.10. What is Entropy and Information Gain?\n",
    "\n"
   ]
  },
  {
   "cell_type": "code",
   "execution_count": null,
   "id": "7122c719-a5ef-4e1e-80b1-847216e70b09",
   "metadata": {},
   "outputs": [],
   "source": []
  },
  {
   "cell_type": "raw",
   "id": "6cc07de8-de2f-44ac-a905-3a53a581e681",
   "metadata": {},
   "source": [
    "Q.2. EDA and built RF using CV?"
   ]
  },
  {
   "cell_type": "code",
   "execution_count": 38,
   "id": "9a7086f3-fe26-4fc9-90eb-b1b6a6cbd82a",
   "metadata": {},
   "outputs": [],
   "source": [
    "import pandas as pd\n",
    "import matplotlib.pyplot as plt\n",
    "import seaborn as sns"
   ]
  },
  {
   "cell_type": "code",
   "execution_count": 6,
   "id": "6ef775c2-9cbe-458b-b231-06574b638e1c",
   "metadata": {},
   "outputs": [],
   "source": [
    "df = pd.read_csv(r'C:\\Users\\kaush\\OneDrive\\Desktop\\Imarticus PGA Data Science & Analytics\\Machine Learning\\Datasets\\loan_data_set.csv')"
   ]
  },
  {
   "cell_type": "code",
   "execution_count": 7,
   "id": "1610b36e-31c9-4248-b265-ac45d8fcd1f0",
   "metadata": {},
   "outputs": [
    {
     "data": {
      "text/plain": [
       "(614, 13)"
      ]
     },
     "execution_count": 7,
     "metadata": {},
     "output_type": "execute_result"
    }
   ],
   "source": [
    "df.shape"
   ]
  },
  {
   "cell_type": "code",
   "execution_count": 8,
   "id": "69d2b749-ef8c-49ce-bf81-ce2ab0b3872c",
   "metadata": {},
   "outputs": [
    {
     "data": {
      "text/html": [
       "<div>\n",
       "<style scoped>\n",
       "    .dataframe tbody tr th:only-of-type {\n",
       "        vertical-align: middle;\n",
       "    }\n",
       "\n",
       "    .dataframe tbody tr th {\n",
       "        vertical-align: top;\n",
       "    }\n",
       "\n",
       "    .dataframe thead th {\n",
       "        text-align: right;\n",
       "    }\n",
       "</style>\n",
       "<table border=\"1\" class=\"dataframe\">\n",
       "  <thead>\n",
       "    <tr style=\"text-align: right;\">\n",
       "      <th></th>\n",
       "      <th>Loan_ID</th>\n",
       "      <th>Gender</th>\n",
       "      <th>Married</th>\n",
       "      <th>Dependents</th>\n",
       "      <th>Education</th>\n",
       "      <th>Self_Employed</th>\n",
       "      <th>ApplicantIncome</th>\n",
       "      <th>CoapplicantIncome</th>\n",
       "      <th>LoanAmount</th>\n",
       "      <th>Loan_Amount_Term</th>\n",
       "      <th>Credit_History</th>\n",
       "      <th>Property_Area</th>\n",
       "      <th>Loan_Status</th>\n",
       "    </tr>\n",
       "  </thead>\n",
       "  <tbody>\n",
       "    <tr>\n",
       "      <th>0</th>\n",
       "      <td>LP001002</td>\n",
       "      <td>Male</td>\n",
       "      <td>No</td>\n",
       "      <td>0</td>\n",
       "      <td>Graduate</td>\n",
       "      <td>No</td>\n",
       "      <td>5849</td>\n",
       "      <td>0.0</td>\n",
       "      <td>NaN</td>\n",
       "      <td>360.0</td>\n",
       "      <td>1.0</td>\n",
       "      <td>Urban</td>\n",
       "      <td>Y</td>\n",
       "    </tr>\n",
       "    <tr>\n",
       "      <th>1</th>\n",
       "      <td>LP001003</td>\n",
       "      <td>Male</td>\n",
       "      <td>Yes</td>\n",
       "      <td>1</td>\n",
       "      <td>Graduate</td>\n",
       "      <td>No</td>\n",
       "      <td>4583</td>\n",
       "      <td>1508.0</td>\n",
       "      <td>128.0</td>\n",
       "      <td>360.0</td>\n",
       "      <td>1.0</td>\n",
       "      <td>Rural</td>\n",
       "      <td>N</td>\n",
       "    </tr>\n",
       "    <tr>\n",
       "      <th>2</th>\n",
       "      <td>LP001005</td>\n",
       "      <td>Male</td>\n",
       "      <td>Yes</td>\n",
       "      <td>0</td>\n",
       "      <td>Graduate</td>\n",
       "      <td>Yes</td>\n",
       "      <td>3000</td>\n",
       "      <td>0.0</td>\n",
       "      <td>66.0</td>\n",
       "      <td>360.0</td>\n",
       "      <td>1.0</td>\n",
       "      <td>Urban</td>\n",
       "      <td>Y</td>\n",
       "    </tr>\n",
       "    <tr>\n",
       "      <th>3</th>\n",
       "      <td>LP001006</td>\n",
       "      <td>Male</td>\n",
       "      <td>Yes</td>\n",
       "      <td>0</td>\n",
       "      <td>Not Graduate</td>\n",
       "      <td>No</td>\n",
       "      <td>2583</td>\n",
       "      <td>2358.0</td>\n",
       "      <td>120.0</td>\n",
       "      <td>360.0</td>\n",
       "      <td>1.0</td>\n",
       "      <td>Urban</td>\n",
       "      <td>Y</td>\n",
       "    </tr>\n",
       "    <tr>\n",
       "      <th>4</th>\n",
       "      <td>LP001008</td>\n",
       "      <td>Male</td>\n",
       "      <td>No</td>\n",
       "      <td>0</td>\n",
       "      <td>Graduate</td>\n",
       "      <td>No</td>\n",
       "      <td>6000</td>\n",
       "      <td>0.0</td>\n",
       "      <td>141.0</td>\n",
       "      <td>360.0</td>\n",
       "      <td>1.0</td>\n",
       "      <td>Urban</td>\n",
       "      <td>Y</td>\n",
       "    </tr>\n",
       "  </tbody>\n",
       "</table>\n",
       "</div>"
      ],
      "text/plain": [
       "    Loan_ID Gender Married Dependents     Education Self_Employed  \\\n",
       "0  LP001002   Male      No          0      Graduate            No   \n",
       "1  LP001003   Male     Yes          1      Graduate            No   \n",
       "2  LP001005   Male     Yes          0      Graduate           Yes   \n",
       "3  LP001006   Male     Yes          0  Not Graduate            No   \n",
       "4  LP001008   Male      No          0      Graduate            No   \n",
       "\n",
       "   ApplicantIncome  CoapplicantIncome  LoanAmount  Loan_Amount_Term  \\\n",
       "0             5849                0.0         NaN             360.0   \n",
       "1             4583             1508.0       128.0             360.0   \n",
       "2             3000                0.0        66.0             360.0   \n",
       "3             2583             2358.0       120.0             360.0   \n",
       "4             6000                0.0       141.0             360.0   \n",
       "\n",
       "   Credit_History Property_Area Loan_Status  \n",
       "0             1.0         Urban           Y  \n",
       "1             1.0         Rural           N  \n",
       "2             1.0         Urban           Y  \n",
       "3             1.0         Urban           Y  \n",
       "4             1.0         Urban           Y  "
      ]
     },
     "execution_count": 8,
     "metadata": {},
     "output_type": "execute_result"
    }
   ],
   "source": [
    "df.head()"
   ]
  },
  {
   "cell_type": "code",
   "execution_count": 9,
   "id": "b95d1080-8aa7-4fb3-8bfb-b010805b1b68",
   "metadata": {},
   "outputs": [
    {
     "data": {
      "text/plain": [
       "Loan_ID               0\n",
       "Gender               13\n",
       "Married               3\n",
       "Dependents           15\n",
       "Education             0\n",
       "Self_Employed        32\n",
       "ApplicantIncome       0\n",
       "CoapplicantIncome     0\n",
       "LoanAmount           22\n",
       "Loan_Amount_Term     14\n",
       "Credit_History       50\n",
       "Property_Area         0\n",
       "Loan_Status           0\n",
       "dtype: int64"
      ]
     },
     "execution_count": 9,
     "metadata": {},
     "output_type": "execute_result"
    }
   ],
   "source": [
    "df.isnull().sum()"
   ]
  },
  {
   "cell_type": "code",
   "execution_count": 10,
   "id": "90e222ec-4deb-491c-82ac-ffe69fcfeb95",
   "metadata": {},
   "outputs": [
    {
     "data": {
      "text/plain": [
       "Credit_History\n",
       "1.0    475\n",
       "0.0     89\n",
       "Name: count, dtype: int64"
      ]
     },
     "execution_count": 10,
     "metadata": {},
     "output_type": "execute_result"
    }
   ],
   "source": [
    "df['Credit_History'].value_counts()"
   ]
  },
  {
   "cell_type": "code",
   "execution_count": 44,
   "id": "a9917fb3-bb62-4663-95d1-f4f3fae1dfe5",
   "metadata": {},
   "outputs": [
    {
     "data": {
      "text/plain": [
       "Loan_ID\n",
       "False    614\n",
       "Name: count, dtype: int64"
      ]
     },
     "execution_count": 44,
     "metadata": {},
     "output_type": "execute_result"
    }
   ],
   "source": [
    "df['Loan_ID'].duplicated().value_counts()"
   ]
  },
  {
   "cell_type": "code",
   "execution_count": null,
   "id": "cff61ee7-c124-4af1-aa03-f48b0a44dd92",
   "metadata": {},
   "outputs": [],
   "source": []
  }
 ],
 "metadata": {
  "kernelspec": {
   "display_name": "Python 3 (ipykernel)",
   "language": "python",
   "name": "python3"
  },
  "language_info": {
   "codemirror_mode": {
    "name": "ipython",
    "version": 3
   },
   "file_extension": ".py",
   "mimetype": "text/x-python",
   "name": "python",
   "nbconvert_exporter": "python",
   "pygments_lexer": "ipython3",
   "version": "3.13.1"
  },
  "widgets": {
   "application/vnd.jupyter.widget-state+json": {
    "state": {},
    "version_major": 2,
    "version_minor": 0
   }
  }
 },
 "nbformat": 4,
 "nbformat_minor": 5
}
